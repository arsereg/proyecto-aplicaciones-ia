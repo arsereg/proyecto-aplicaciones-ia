{
 "cells": [
  {
   "cell_type": "code",
   "id": "2bff4dfa-8b3c-4407-8d86-ed398af69e33",
   "metadata": {
    "ExecuteTime": {
     "end_time": "2024-04-29T05:36:02.684500Z",
     "start_time": "2024-04-29T05:36:02.683026Z"
    }
   },
   "source": [
    "# Instalar otras dependencias para ayudarnos\n",
    "#!pip install tensorflow\n",
    "#!pip install -q \"tqdm>=4.36.1\"\n",
    "# !pip install tensorflow-addons==0.22.0\n"
   ],
   "outputs": [],
   "execution_count": 1
  },
  {
   "cell_type": "code",
   "id": "8ddee068-ea03-434b-b08f-5770b5f2c5e6",
   "metadata": {
    "ExecuteTime": {
     "end_time": "2024-04-29T05:36:47.552905Z",
     "start_time": "2024-04-29T05:36:47.550712Z"
    }
   },
   "source": [
    "# importar librerías\n",
    "import tensorflow as tf\n",
    "from tensorflow import keras\n",
    "import pandas as pd\n",
    "import matplotlib.pyplot as plt\n",
    "import os\n",
    "import tqdm\n",
    "# import tensorflow_addons as tfa\n",
    "print(tf.__version__)\n",
    "print(tf.config.list_physical_devices('GPU'))"
   ],
   "outputs": [
    {
     "name": "stdout",
     "output_type": "stream",
     "text": [
      "2.16.1\n",
      "[]\n"
     ]
    }
   ],
   "execution_count": 2
  },
  {
   "cell_type": "code",
   "id": "d228b85e-bdbc-440b-b542-926f58cdff39",
   "metadata": {
    "ExecuteTime": {
     "end_time": "2024-04-29T04:18:56.675828Z",
     "start_time": "2024-04-29T04:18:56.668835Z"
    }
   },
   "source": [
    "# Cargamos la data\n",
    "data = pd.read_csv(\"data.csv\", header=0)\n",
    "# Hacemos un shuffle de los rows\n",
    "data = data.sample(frac = 1)\n",
    "data.head(10)"
   ],
   "outputs": [
    {
     "data": {
      "text/plain": [
       "     pelvic_incidence  pelvic_tilt numeric  lumbar_lordosis_angle  \\\n",
       "209         48.259920            16.417462              36.329137   \n",
       "198         74.854480            13.909084              62.693259   \n",
       "10          49.706610            13.040974              31.334500   \n",
       "38          55.843286            28.847448              47.690543   \n",
       "46          48.332638            22.227784              36.181993   \n",
       "238         69.004913            13.291790              55.570143   \n",
       "93          58.101935            14.837639              79.649838   \n",
       "51          74.433593            41.557331              27.700000   \n",
       "17          31.276012             3.144669              32.562996   \n",
       "88          56.605771            16.800200              42.000000   \n",
       "\n",
       "     sacral_slope  pelvic_radius  degree_spondylolisthesis     class  \n",
       "209     31.842457      94.882336                 28.343799  Abnormal  \n",
       "198     60.945396     115.208701                 33.172255  Abnormal  \n",
       "10      36.665635     108.648265                 -7.825986  Abnormal  \n",
       "38      26.995838     123.311845                  2.812427  Abnormal  \n",
       "46      26.104854     117.384625                  6.481709  Abnormal  \n",
       "238     55.713123     126.611621                 10.832011    Normal  \n",
       "93      43.264295     113.587655                 50.237878  Abnormal  \n",
       "51      32.876262     107.949304                  5.000089  Abnormal  \n",
       "17      28.131342     129.011418                  3.623020  Abnormal  \n",
       "88      39.805571     127.294522                 24.018575  Abnormal  "
      ],
      "text/html": [
       "<div>\n",
       "<style scoped>\n",
       "    .dataframe tbody tr th:only-of-type {\n",
       "        vertical-align: middle;\n",
       "    }\n",
       "\n",
       "    .dataframe tbody tr th {\n",
       "        vertical-align: top;\n",
       "    }\n",
       "\n",
       "    .dataframe thead th {\n",
       "        text-align: right;\n",
       "    }\n",
       "</style>\n",
       "<table border=\"1\" class=\"dataframe\">\n",
       "  <thead>\n",
       "    <tr style=\"text-align: right;\">\n",
       "      <th></th>\n",
       "      <th>pelvic_incidence</th>\n",
       "      <th>pelvic_tilt numeric</th>\n",
       "      <th>lumbar_lordosis_angle</th>\n",
       "      <th>sacral_slope</th>\n",
       "      <th>pelvic_radius</th>\n",
       "      <th>degree_spondylolisthesis</th>\n",
       "      <th>class</th>\n",
       "    </tr>\n",
       "  </thead>\n",
       "  <tbody>\n",
       "    <tr>\n",
       "      <th>209</th>\n",
       "      <td>48.259920</td>\n",
       "      <td>16.417462</td>\n",
       "      <td>36.329137</td>\n",
       "      <td>31.842457</td>\n",
       "      <td>94.882336</td>\n",
       "      <td>28.343799</td>\n",
       "      <td>Abnormal</td>\n",
       "    </tr>\n",
       "    <tr>\n",
       "      <th>198</th>\n",
       "      <td>74.854480</td>\n",
       "      <td>13.909084</td>\n",
       "      <td>62.693259</td>\n",
       "      <td>60.945396</td>\n",
       "      <td>115.208701</td>\n",
       "      <td>33.172255</td>\n",
       "      <td>Abnormal</td>\n",
       "    </tr>\n",
       "    <tr>\n",
       "      <th>10</th>\n",
       "      <td>49.706610</td>\n",
       "      <td>13.040974</td>\n",
       "      <td>31.334500</td>\n",
       "      <td>36.665635</td>\n",
       "      <td>108.648265</td>\n",
       "      <td>-7.825986</td>\n",
       "      <td>Abnormal</td>\n",
       "    </tr>\n",
       "    <tr>\n",
       "      <th>38</th>\n",
       "      <td>55.843286</td>\n",
       "      <td>28.847448</td>\n",
       "      <td>47.690543</td>\n",
       "      <td>26.995838</td>\n",
       "      <td>123.311845</td>\n",
       "      <td>2.812427</td>\n",
       "      <td>Abnormal</td>\n",
       "    </tr>\n",
       "    <tr>\n",
       "      <th>46</th>\n",
       "      <td>48.332638</td>\n",
       "      <td>22.227784</td>\n",
       "      <td>36.181993</td>\n",
       "      <td>26.104854</td>\n",
       "      <td>117.384625</td>\n",
       "      <td>6.481709</td>\n",
       "      <td>Abnormal</td>\n",
       "    </tr>\n",
       "    <tr>\n",
       "      <th>238</th>\n",
       "      <td>69.004913</td>\n",
       "      <td>13.291790</td>\n",
       "      <td>55.570143</td>\n",
       "      <td>55.713123</td>\n",
       "      <td>126.611621</td>\n",
       "      <td>10.832011</td>\n",
       "      <td>Normal</td>\n",
       "    </tr>\n",
       "    <tr>\n",
       "      <th>93</th>\n",
       "      <td>58.101935</td>\n",
       "      <td>14.837639</td>\n",
       "      <td>79.649838</td>\n",
       "      <td>43.264295</td>\n",
       "      <td>113.587655</td>\n",
       "      <td>50.237878</td>\n",
       "      <td>Abnormal</td>\n",
       "    </tr>\n",
       "    <tr>\n",
       "      <th>51</th>\n",
       "      <td>74.433593</td>\n",
       "      <td>41.557331</td>\n",
       "      <td>27.700000</td>\n",
       "      <td>32.876262</td>\n",
       "      <td>107.949304</td>\n",
       "      <td>5.000089</td>\n",
       "      <td>Abnormal</td>\n",
       "    </tr>\n",
       "    <tr>\n",
       "      <th>17</th>\n",
       "      <td>31.276012</td>\n",
       "      <td>3.144669</td>\n",
       "      <td>32.562996</td>\n",
       "      <td>28.131342</td>\n",
       "      <td>129.011418</td>\n",
       "      <td>3.623020</td>\n",
       "      <td>Abnormal</td>\n",
       "    </tr>\n",
       "    <tr>\n",
       "      <th>88</th>\n",
       "      <td>56.605771</td>\n",
       "      <td>16.800200</td>\n",
       "      <td>42.000000</td>\n",
       "      <td>39.805571</td>\n",
       "      <td>127.294522</td>\n",
       "      <td>24.018575</td>\n",
       "      <td>Abnormal</td>\n",
       "    </tr>\n",
       "  </tbody>\n",
       "</table>\n",
       "</div>"
      ]
     },
     "execution_count": 12,
     "metadata": {},
     "output_type": "execute_result"
    }
   ],
   "execution_count": 12
  },
  {
   "cell_type": "code",
   "id": "1c4bf8c9-4110-4c3a-ba39-1128fce78db7",
   "metadata": {
    "ExecuteTime": {
     "end_time": "2024-04-29T04:18:59.156277Z",
     "start_time": "2024-04-29T04:18:59.150246Z"
    }
   },
   "source": [
    "#Creamos una lista de las posibles clases y su representación inversa\n",
    "class_names = {\n",
    "    \"Abnormal\": 0,\n",
    "    \"Normal\": 1\n",
    "}\n",
    "reversed_class_names = {v: k for k, v in class_names.items()}\n",
    "data['class'] = data['class'].map(class_names)\n",
    "data.head(10)\n",
    "\n"
   ],
   "outputs": [
    {
     "data": {
      "text/plain": [
       "     pelvic_incidence  pelvic_tilt numeric  lumbar_lordosis_angle  \\\n",
       "209         48.259920            16.417462              36.329137   \n",
       "198         74.854480            13.909084              62.693259   \n",
       "10          49.706610            13.040974              31.334500   \n",
       "38          55.843286            28.847448              47.690543   \n",
       "46          48.332638            22.227784              36.181993   \n",
       "238         69.004913            13.291790              55.570143   \n",
       "93          58.101935            14.837639              79.649838   \n",
       "51          74.433593            41.557331              27.700000   \n",
       "17          31.276012             3.144669              32.562996   \n",
       "88          56.605771            16.800200              42.000000   \n",
       "\n",
       "     sacral_slope  pelvic_radius  degree_spondylolisthesis  class  \n",
       "209     31.842457      94.882336                 28.343799      0  \n",
       "198     60.945396     115.208701                 33.172255      0  \n",
       "10      36.665635     108.648265                 -7.825986      0  \n",
       "38      26.995838     123.311845                  2.812427      0  \n",
       "46      26.104854     117.384625                  6.481709      0  \n",
       "238     55.713123     126.611621                 10.832011      1  \n",
       "93      43.264295     113.587655                 50.237878      0  \n",
       "51      32.876262     107.949304                  5.000089      0  \n",
       "17      28.131342     129.011418                  3.623020      0  \n",
       "88      39.805571     127.294522                 24.018575      0  "
      ],
      "text/html": [
       "<div>\n",
       "<style scoped>\n",
       "    .dataframe tbody tr th:only-of-type {\n",
       "        vertical-align: middle;\n",
       "    }\n",
       "\n",
       "    .dataframe tbody tr th {\n",
       "        vertical-align: top;\n",
       "    }\n",
       "\n",
       "    .dataframe thead th {\n",
       "        text-align: right;\n",
       "    }\n",
       "</style>\n",
       "<table border=\"1\" class=\"dataframe\">\n",
       "  <thead>\n",
       "    <tr style=\"text-align: right;\">\n",
       "      <th></th>\n",
       "      <th>pelvic_incidence</th>\n",
       "      <th>pelvic_tilt numeric</th>\n",
       "      <th>lumbar_lordosis_angle</th>\n",
       "      <th>sacral_slope</th>\n",
       "      <th>pelvic_radius</th>\n",
       "      <th>degree_spondylolisthesis</th>\n",
       "      <th>class</th>\n",
       "    </tr>\n",
       "  </thead>\n",
       "  <tbody>\n",
       "    <tr>\n",
       "      <th>209</th>\n",
       "      <td>48.259920</td>\n",
       "      <td>16.417462</td>\n",
       "      <td>36.329137</td>\n",
       "      <td>31.842457</td>\n",
       "      <td>94.882336</td>\n",
       "      <td>28.343799</td>\n",
       "      <td>0</td>\n",
       "    </tr>\n",
       "    <tr>\n",
       "      <th>198</th>\n",
       "      <td>74.854480</td>\n",
       "      <td>13.909084</td>\n",
       "      <td>62.693259</td>\n",
       "      <td>60.945396</td>\n",
       "      <td>115.208701</td>\n",
       "      <td>33.172255</td>\n",
       "      <td>0</td>\n",
       "    </tr>\n",
       "    <tr>\n",
       "      <th>10</th>\n",
       "      <td>49.706610</td>\n",
       "      <td>13.040974</td>\n",
       "      <td>31.334500</td>\n",
       "      <td>36.665635</td>\n",
       "      <td>108.648265</td>\n",
       "      <td>-7.825986</td>\n",
       "      <td>0</td>\n",
       "    </tr>\n",
       "    <tr>\n",
       "      <th>38</th>\n",
       "      <td>55.843286</td>\n",
       "      <td>28.847448</td>\n",
       "      <td>47.690543</td>\n",
       "      <td>26.995838</td>\n",
       "      <td>123.311845</td>\n",
       "      <td>2.812427</td>\n",
       "      <td>0</td>\n",
       "    </tr>\n",
       "    <tr>\n",
       "      <th>46</th>\n",
       "      <td>48.332638</td>\n",
       "      <td>22.227784</td>\n",
       "      <td>36.181993</td>\n",
       "      <td>26.104854</td>\n",
       "      <td>117.384625</td>\n",
       "      <td>6.481709</td>\n",
       "      <td>0</td>\n",
       "    </tr>\n",
       "    <tr>\n",
       "      <th>238</th>\n",
       "      <td>69.004913</td>\n",
       "      <td>13.291790</td>\n",
       "      <td>55.570143</td>\n",
       "      <td>55.713123</td>\n",
       "      <td>126.611621</td>\n",
       "      <td>10.832011</td>\n",
       "      <td>1</td>\n",
       "    </tr>\n",
       "    <tr>\n",
       "      <th>93</th>\n",
       "      <td>58.101935</td>\n",
       "      <td>14.837639</td>\n",
       "      <td>79.649838</td>\n",
       "      <td>43.264295</td>\n",
       "      <td>113.587655</td>\n",
       "      <td>50.237878</td>\n",
       "      <td>0</td>\n",
       "    </tr>\n",
       "    <tr>\n",
       "      <th>51</th>\n",
       "      <td>74.433593</td>\n",
       "      <td>41.557331</td>\n",
       "      <td>27.700000</td>\n",
       "      <td>32.876262</td>\n",
       "      <td>107.949304</td>\n",
       "      <td>5.000089</td>\n",
       "      <td>0</td>\n",
       "    </tr>\n",
       "    <tr>\n",
       "      <th>17</th>\n",
       "      <td>31.276012</td>\n",
       "      <td>3.144669</td>\n",
       "      <td>32.562996</td>\n",
       "      <td>28.131342</td>\n",
       "      <td>129.011418</td>\n",
       "      <td>3.623020</td>\n",
       "      <td>0</td>\n",
       "    </tr>\n",
       "    <tr>\n",
       "      <th>88</th>\n",
       "      <td>56.605771</td>\n",
       "      <td>16.800200</td>\n",
       "      <td>42.000000</td>\n",
       "      <td>39.805571</td>\n",
       "      <td>127.294522</td>\n",
       "      <td>24.018575</td>\n",
       "      <td>0</td>\n",
       "    </tr>\n",
       "  </tbody>\n",
       "</table>\n",
       "</div>"
      ]
     },
     "execution_count": 13,
     "metadata": {},
     "output_type": "execute_result"
    }
   ],
   "execution_count": 13
  },
  {
   "cell_type": "code",
   "id": "6aa83a5b-b578-45fb-ba96-1ada69a9e026",
   "metadata": {
    "ExecuteTime": {
     "end_time": "2024-04-29T04:19:00.783345Z",
     "start_time": "2024-04-29T04:19:00.779958Z"
    }
   },
   "source": [
    "#Definimos los porcentajes de entrenamiento:\n",
    "\n",
    "dataset_percent_for_training = 0.8\n",
    "dataset_percent_for_testing = 0.2\n",
    "data_count = len(data)\n",
    "training_count = int((data_count * dataset_percent_for_training))\n",
    "testing_count = int(data_count * dataset_percent_for_testing)\n",
    "\n",
    "# Creamos los sets de entrenamiento y de pruebas\n",
    "training_data = data.iloc[:, :5][:training_count]\n",
    "training_labels = data.iloc[:, 6][:training_count]\n",
    "\n",
    "testing_data = data.iloc[:, :5][training_count:training_count + testing_count]\n",
    "testing_labels = data.iloc[:, 6][training_count:training_count + testing_count]\n",
    "print(testing_labels.head(10))"
   ],
   "outputs": [
    {
     "name": "stdout",
     "output_type": "stream",
     "text": [
      "210    1\n",
      "62     0\n",
      "249    1\n",
      "55     0\n",
      "196    0\n",
      "287    1\n",
      "296    1\n",
      "197    0\n",
      "301    1\n",
      "83     0\n",
      "Name: class, dtype: int64\n"
     ]
    }
   ],
   "execution_count": 14
  },
  {
   "cell_type": "code",
   "id": "fdb42a60-cbbf-4e89-a11c-0b5638055634",
   "metadata": {
    "ExecuteTime": {
     "end_time": "2024-04-29T05:53:01.464956Z",
     "start_time": "2024-04-29T05:53:01.462103Z"
    }
   },
   "source": [
    "# Creamos una red neuronal. Esta red neuronal va a tener 6 neuronas iniciales,\n",
    "# para poder ser excitadas por las señales de las columnas en la data.\n",
    "# Tendrá una sola capa ya que las 6 neuronas tienen un valor \"relevante\" para el final.\n",
    "# Habrá una sola neurona final que clasifique el resultado como Normal (1) o Anormal (0)\n",
    "test_acc = 0\n",
    "train_model = False\n",
    "model = None\n",
    "while train_model and test_acc < 0.9:\n",
    "    model = keras.Sequential([\n",
    "        keras.layers.Dense(6, activation='softmax'),\n",
    "        keras.layers.Dense(2)\n",
    "    ])\n",
    "\n",
    "    optimizer = tf.keras.optimizers.Adam(\n",
    "        learning_rate=0.0007\n",
    "    )\n",
    "    model.compile(optimizer=optimizer,\n",
    "                  loss=tf.keras.losses.SparseCategoricalCrossentropy(from_logits=False),\n",
    "                    metrics=['accuracy'])\n",
    "    #Definimos la cantidad de epocs de entrenamiento.\n",
    "    epochs = 150\n",
    "\n",
    "\n",
    "    #Comenzamos el entrenamiento\n",
    "    model.fit(training_data, training_labels, epochs=epochs, verbose=0)                         \n",
    "    test_loss, test_acc = model.evaluate(testing_data, testing_labels, verbose=2)"
   ],
   "outputs": [],
   "execution_count": 5
  },
  {
   "metadata": {
    "ExecuteTime": {
     "end_time": "2024-04-29T05:53:04.678926Z",
     "start_time": "2024-04-29T05:53:04.656026Z"
    }
   },
   "cell_type": "code",
   "source": [
    "def load_saved_model(model_name):\n",
    "    model_path = f\"models/{model_name}\"\n",
    "    model = tf.keras.models.load_model(model_path)\n",
    "    print(f'Model loaded from {model_path}')\n",
    "    return model\n",
    "\n",
    "# Si no hay modelo creado, preguntemos si queremos cargar uno\n",
    "\n",
    "model_name = 'trained_model-08.keras'\n",
    "model = load_saved_model(model_name)\n",
    "test_loss, test_acc = model.evaluate(testing_data, testing_labels, verbose=2)\n",
    "print(model)\n",
    "    "
   ],
   "id": "99125e55c94bc914",
   "outputs": [
    {
     "name": "stdout",
     "output_type": "stream",
     "text": [
      "Model loaded from models/trained_model-08.keras\n"
     ]
    },
    {
     "ename": "NameError",
     "evalue": "name 'testing_data' is not defined",
     "output_type": "error",
     "traceback": [
      "\u001B[0;31m---------------------------------------------------------------------------\u001B[0m",
      "\u001B[0;31mNameError\u001B[0m                                 Traceback (most recent call last)",
      "Cell \u001B[0;32mIn[6], line 11\u001B[0m\n\u001B[1;32m      9\u001B[0m model_name \u001B[38;5;241m=\u001B[39m \u001B[38;5;124m'\u001B[39m\u001B[38;5;124mtrained_model-08.keras\u001B[39m\u001B[38;5;124m'\u001B[39m\n\u001B[1;32m     10\u001B[0m model \u001B[38;5;241m=\u001B[39m load_saved_model(model_name)\n\u001B[0;32m---> 11\u001B[0m test_loss, test_acc \u001B[38;5;241m=\u001B[39m model\u001B[38;5;241m.\u001B[39mevaluate(\u001B[43mtesting_data\u001B[49m, testing_labels, verbose\u001B[38;5;241m=\u001B[39m\u001B[38;5;241m2\u001B[39m)\n\u001B[1;32m     12\u001B[0m \u001B[38;5;66;03m#Evaluemos el modelo\u001B[39;00m\n\u001B[1;32m     13\u001B[0m \u001B[38;5;28mprint\u001B[39m(\u001B[38;5;124m'\u001B[39m\u001B[38;5;130;01m\\n\u001B[39;00m\u001B[38;5;124mTest accuracy: \u001B[39m\u001B[38;5;124m'\u001B[39m, test_acc)\n",
      "\u001B[0;31mNameError\u001B[0m: name 'testing_data' is not defined"
     ]
    }
   ],
   "execution_count": 6
  },
  {
   "cell_type": "code",
   "id": "58797f9e-bae9-45ea-b49a-24e8122849fa",
   "metadata": {
    "ExecuteTime": {
     "end_time": "2024-04-29T05:52:41.361601Z",
     "start_time": "2024-04-29T05:52:41.235482Z"
    }
   },
   "source": [
    "#Evaluemos el modelo\n",
    "print('\\nTest accuracy: ', test_acc)"
   ],
   "outputs": [
    {
     "ename": "NameError",
     "evalue": "name 'test_acc' is not defined",
     "output_type": "error",
     "traceback": [
      "\u001B[0;31m---------------------------------------------------------------------------\u001B[0m",
      "\u001B[0;31mNameError\u001B[0m                                 Traceback (most recent call last)",
      "Cell \u001B[0;32mIn[3], line 2\u001B[0m\n\u001B[1;32m      1\u001B[0m \u001B[38;5;66;03m#Evaluemos el modelo\u001B[39;00m\n\u001B[0;32m----> 2\u001B[0m \u001B[38;5;28mprint\u001B[39m(\u001B[38;5;124m'\u001B[39m\u001B[38;5;130;01m\\n\u001B[39;00m\u001B[38;5;124mTest accuracy: \u001B[39m\u001B[38;5;124m'\u001B[39m, \u001B[43mtest_acc\u001B[49m)\n",
      "\u001B[0;31mNameError\u001B[0m: name 'test_acc' is not defined"
     ]
    }
   ],
   "execution_count": 3
  },
  {
   "cell_type": "code",
   "id": "8064d66c-0be7-49e6-9fe6-c9aa7b10d2ce",
   "metadata": {},
   "source": [
    "#Guardemos el modelo\n",
    "\n",
    "# model_path = 'models/trained_model-09.keras'\n",
    "# model.save(model_path)"
   ],
   "outputs": [],
   "execution_count": null
  },
  {
   "cell_type": "code",
   "id": "11c6e669-fa3d-4ff2-8343-a645a9c5cae8",
   "metadata": {},
   "source": [
    "#Hagamos predicciones\n",
    "probability_model = tf.keras.Sequential([model, tf.keras.layers.Softmax()])\n",
    "predictions = probability_model.predict(testing_data)\n",
    "\n",
    "slice = 10\n",
    "end = slice + 30\n",
    "selected_predictions = predictions[slice:end]\n",
    "selected_actual = testing_labels[slice:end]\n",
    "\n",
    "fig, axs = plt.subplots(5, 4, figsize=(15, 20))\n",
    "\n",
    "for i, ax in enumerate(axs.flat):\n",
    "    # Plotear el valor predicho\n",
    "    ax.bar(reversed_class_names.values(), selected_predictions[i], alpha= 0.5, label='Predicho')\n",
    "    # Plotear el valor real\n",
    "    actual_values = [0] * len(reversed_class_names)\n",
    "    actual_values[selected_actual.iloc[i]] = 1\n",
    "    ax.bar(reversed_class_names.values(), actual_values, alpha=0.5, label='Real')\n",
    "    ax.set_title(f'Predicción {i + 1}')\n",
    "    ax.set_ylabel('Confianza')\n",
    "    ax.set_ylim([0, 1])\n",
    "    ax.legend()\n",
    "plt.tight_layout()\n",
    "plt.show()"
   ],
   "outputs": [],
   "execution_count": null
  }
 ],
 "metadata": {
  "kernelspec": {
   "display_name": "Python 3 (ipykernel)",
   "language": "python",
   "name": "python3"
  },
  "language_info": {
   "codemirror_mode": {
    "name": "ipython",
    "version": 3
   },
   "file_extension": ".py",
   "mimetype": "text/x-python",
   "name": "python",
   "nbconvert_exporter": "python",
   "pygments_lexer": "ipython3",
   "version": "3.10.12"
  }
 },
 "nbformat": 4,
 "nbformat_minor": 5
}
